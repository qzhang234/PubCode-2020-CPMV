{
 "cells": [
  {
   "cell_type": "markdown",
   "id": "55aa145c-041e-492c-9f6a-21bdd2c9910e",
   "metadata": {},
   "source": [
    "## Synopsis\n",
    "\n",
    "This script takes the averaged HDF files on `/net/wolf` with G2, removes the hot pixels in first delay point of G2, and saves into a regular size and format HDF result file with cleaned up g2\n"
   ]
  },
  {
   "cell_type": "markdown",
   "id": "ab08d9b5-2929-491b-b3d2-258eb13aa549",
   "metadata": {},
   "source": [
    "## Initialization"
   ]
  },
  {
   "cell_type": "code",
   "execution_count": 1,
   "id": "295ac84d-3100-47d1-88fc-e025756c7e4d",
   "metadata": {},
   "outputs": [],
   "source": [
    "\n",
    "import numpy as np\n",
    "from numpy import sqrt, sin, cos, pi, exp\n",
    "import matplotlib\n",
    "import matplotlib.pyplot as plt\n",
    "from matplotlib.colors import LogNorm\n",
    "import h5py  \n",
    "from subprocess import PIPE, run\n",
    "from xpcs_viewer import XpcsFile as xf\n",
    "\n",
    "# Local file `XPCS_Functions.py`\n",
    "from XPCS_Functions import G2_g2\n"
   ]
  },
  {
   "cell_type": "markdown",
   "id": "ac71c04f-e684-4be3-ac44-7c32c16cc925",
   "metadata": {},
   "source": [
    "## List target file names "
   ]
  },
  {
   "cell_type": "code",
   "execution_count": 2,
   "id": "e7b5bfcb-9163-4579-a0ff-919b5b7fccd6",
   "metadata": {},
   "outputs": [],
   "source": [
    "\n",
    "fp_remote = '/net/wolf/data/xpcs8/2020-3/qzhang202010/cluster_results_XPCS/'\n",
    "\n",
    "fn_remote = ('J058/AvgJ058_00001_CPMV_6C_7v1_Water_att00_Try1_0001-100000.hdf',\n",
    "             'J058_1st50k/AvgJ058_00001_CPMV_6C_7v1_Water_att00_Try1_0001-100000.hdf',\n",
    "             'J058_2nd50k/AvgJ058_00001_CPMV_6C_7v1_Water_att00_Try1_0001-100000.hdf',\n",
    "             'M071_M073/AvgM071_00001_CPMV_6C_7v1_NH4M_att00_Try1_0001-100000.hdf',\n",
    "             'L067/AvgL067_00001_CPMV_6C_7v1_NaCl4M_att00_Try1_0001-100000.hdf')\n",
    "\n",
    "fn_local = ('J058_Water_XPCS_Trim.hdf',\n",
    "            'J058_Water_1st_XPCS_Trim.hdf',\n",
    "            'J058_Water_2nd_XPCS_Trim.hdf',\n",
    "            'M071_NH4_XPCS_Trim.hdf',\n",
    "            'L067_NaCl_XPCS_Trim.hdf')\n",
    "                "
   ]
  },
  {
   "cell_type": "code",
   "execution_count": 3,
   "id": "eac33803-62a8-4c78-9267-02e43aaaefc1",
   "metadata": {},
   "outputs": [],
   "source": [
    "\n",
    "for ii in range(5):\n",
    "    a = xf(fn_remote[ii], cwd = fp_remote, fields=['G2','IP','IF','sqmap','dqmap'])\n",
    "    \n",
    "    # Bin G2 into g2\n",
    "    [a.g2_fix,a.g2_err_fix] = G2_g2(a.G2,a.IP,a.IF,a.sqmap,a.dqmap)\n",
    "\n",
    "    # Copy hdf5 result file with G2 into a tmp file at current directory\n",
    "    command = ['cp', fp_remote+fn_remote[ii], 'tmp.hdf']\n",
    "    _ = run(command, stdout=PIPE, stderr=PIPE)\n",
    "\n",
    "    # # Remove G2/IP/IF from the tmp file using h5repack\n",
    "    with h5py.File('tmp.hdf', 'r+') as f1:\n",
    "        del f1['/exchange/G2']\n",
    "        del f1['/exchange/IP']\n",
    "        del f1['/exchange/IF']\n",
    "        f1['/exchange/norm-0-g2'][...] = a.g2_fix\n",
    "        f1['/exchange/norm-0-stderr'][...] = a.g2_err_fix\n",
    "        f1.flush()\n",
    "               \n",
    "    # Copy tmp file to another file with the specified file name\n",
    "    command = ['h5repack', 'tmp.hdf', fn_local[ii]]\n",
    "    _ = run(command, stdout=PIPE, stderr=PIPE)\n",
    "    \n",
    "# Delete the tmp file\n",
    "command = ['rm', '-rf', 'tmp.hdf']\n",
    "_ = run(command, stdout=PIPE, stderr=PIPE)\n",
    "\n"
   ]
  },
  {
   "cell_type": "code",
   "execution_count": null,
   "id": "5f95a689-8f0f-4bba-87a2-8e43a35f0cee",
   "metadata": {},
   "outputs": [],
   "source": []
  }
 ],
 "metadata": {
  "kernelspec": {
   "display_name": "Python 3",
   "language": "python",
   "name": "python3"
  },
  "language_info": {
   "codemirror_mode": {
    "name": "ipython",
    "version": 3
   },
   "file_extension": ".py",
   "mimetype": "text/x-python",
   "name": "python",
   "nbconvert_exporter": "python",
   "pygments_lexer": "ipython3",
   "version": "3.9.5"
  }
 },
 "nbformat": 4,
 "nbformat_minor": 5
}
