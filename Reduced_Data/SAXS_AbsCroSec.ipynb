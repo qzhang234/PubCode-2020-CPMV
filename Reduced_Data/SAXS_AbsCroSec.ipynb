{
 "cells": [
  {
   "cell_type": "markdown",
   "id": "55aa145c-041e-492c-9f6a-21bdd2c9910e",
   "metadata": {},
   "source": [
    "## Synopsis\n",
    "\n",
    "This script takes the averaged HDF files on `/net/wolf` with neat circular mask for SAXS, and replaces the SAXS 1D with the calculated absolute cross-section values.\n"
   ]
  },
  {
   "cell_type": "markdown",
   "id": "ab08d9b5-2929-491b-b3d2-258eb13aa549",
   "metadata": {},
   "source": [
    "## Initialization"
   ]
  },
  {
   "cell_type": "code",
   "execution_count": 1,
   "id": "295ac84d-3100-47d1-88fc-e025756c7e4d",
   "metadata": {},
   "outputs": [],
   "source": [
    "\n",
    "import numpy as np\n",
    "from numpy import sqrt, sin, cos, pi, exp\n",
    "import matplotlib\n",
    "import matplotlib.pyplot as plt\n",
    "from matplotlib.colors import LogNorm\n",
    "import h5py  \n",
    "from subprocess import PIPE, run\n",
    "from xpcs_viewer import XpcsFile as xf\n"
   ]
  },
  {
   "cell_type": "markdown",
   "id": "84b05ce2-5392-499a-a566-13fc065f9a4c",
   "metadata": {},
   "source": [
    "## Transmission coefficient calculation"
   ]
  },
  {
   "cell_type": "code",
   "execution_count": 2,
   "id": "b0015adf-8c00-43a1-9bb9-d7d5ee617b4c",
   "metadata": {},
   "outputs": [],
   "source": [
    "\n",
    "pind4_flux = 1.31e10 # Photon per second\n",
    "f = 2e-3 # 2 mm capillary\n",
    "t_exp = 19e-6 # Exposure time per frame\n",
    "Del_Omega = (76e-6/8)**2\n",
    "pind4_base = 147\n",
    "\n",
    "# The 0.01 coefficient is to convert the absolute cross-section unit from m to cm\n",
    "coeff_1 = 1/(t_exp*f*Del_Omega*pind4_flux)*0.01\n",
    "\n",
    "#Scan 115 \n",
    "pind4_full_1 = 15087\n",
    "pind4_cap = 12920\n",
    "pind4_water = 5833\n",
    "\n",
    "Tr_water = (pind4_water-pind4_base)/(pind4_full_1-pind4_base)\n",
    "Tr_cap = (pind4_cap-pind4_base)/(pind4_full_1-pind4_base)\n",
    "\n",
    "# Scan 128\n",
    "pind4_full_2 = 15419\n",
    "pind4_NaCl = 5394\n",
    "pind4_NH4 = 4796\n",
    "\n",
    "Tr_NaCl = (pind4_NaCl-pind4_base)/(pind4_full_2-pind4_base)\n",
    "Tr_NH4 = (pind4_NH4-pind4_base)/(pind4_full_2-pind4_base)\n"
   ]
  },
  {
   "cell_type": "markdown",
   "id": "d042fde9-1a4c-40a6-882b-51b10eaf58c2",
   "metadata": {},
   "source": [
    "## Read background `saxs_1d`"
   ]
  },
  {
   "cell_type": "code",
   "execution_count": 3,
   "id": "eb744d98-bd0a-4f36-8ca9-59ad8c6df15e",
   "metadata": {},
   "outputs": [],
   "source": [
    "\n",
    "fp_remote = '/net/wolf/data/xpcs8/2020-3/qzhang202010/cluster_results_SAXS/'\n",
    "\n",
    "a = xf('K063/AvgK063_00001_Empty_Cap_att00_Try1_0001-100000.hdf', cwd = fp_remote)\n",
    "Iq_cap = a.saxs_1d['Iq']\n"
   ]
  },
  {
   "cell_type": "markdown",
   "id": "ac71c04f-e684-4be3-ac44-7c32c16cc925",
   "metadata": {},
   "source": [
    "## List target file names "
   ]
  },
  {
   "cell_type": "code",
   "execution_count": 4,
   "id": "e7b5bfcb-9163-4579-a0ff-919b5b7fccd6",
   "metadata": {},
   "outputs": [],
   "source": [
    "\n",
    "fn_remote = ('J058/AvgJ058_00001_CPMV_6C_7v1_Water_att00_Try1_0001-100000.hdf',\n",
    "             'M071/AvgM071_00001_CPMV_6C_7v1_NH4M_att00_Try1_0001-100000.hdf',\n",
    "             'L067/AvgL067_00001_CPMV_6C_7v1_NaCl4M_att00_Try1_0001-100000.hdf')\n",
    "                                    \n",
    "fn_local = ('J058_Water_SAXS_Abs_Cross.hdf', \n",
    "            'M071_NH4_SAXS_Abs_Cross.hdf', \n",
    "            'L067_NaCl_SAXS_Abs_Cross.hdf')\n",
    "             \n",
    "tr_coeff = (Tr_water, \n",
    "            Tr_NH4, \n",
    "            Tr_NaCl)             \n",
    "                "
   ]
  },
  {
   "cell_type": "code",
   "execution_count": 5,
   "id": "eac33803-62a8-4c78-9267-02e43aaaefc1",
   "metadata": {},
   "outputs": [],
   "source": [
    "\n",
    "for ii in range(3):\n",
    "    \n",
    "    a = xf(fn_remote[ii], cwd = fp_remote)\n",
    "    \n",
    "    command = ['cp', fp_remote+fn_remote[ii], fn_local[ii]]    \n",
    "    _ = run(command, stdout=PIPE, stderr=PIPE)\n",
    "    \n",
    "    with h5py.File(fn_local[ii], 'r+') as f1:\n",
    "        f1['/exchange/partition-mean-total'][...] = \\\n",
    "            (a.saxs_1d['Iq']/tr_coeff[ii]-Iq_cap/Tr_cap)*coeff_1\n",
    "        f1.flush()\n",
    "                   "
   ]
  },
  {
   "cell_type": "code",
   "execution_count": null,
   "id": "8f2818c4-e6e8-40f0-a304-a866053c5d6f",
   "metadata": {},
   "outputs": [],
   "source": []
  }
 ],
 "metadata": {
  "kernelspec": {
   "display_name": "Python 3",
   "language": "python",
   "name": "python3"
  },
  "language_info": {
   "codemirror_mode": {
    "name": "ipython",
    "version": 3
   },
   "file_extension": ".py",
   "mimetype": "text/x-python",
   "name": "python",
   "nbconvert_exporter": "python",
   "pygments_lexer": "ipython3",
   "version": "3.9.5"
  }
 },
 "nbformat": 4,
 "nbformat_minor": 5
}
